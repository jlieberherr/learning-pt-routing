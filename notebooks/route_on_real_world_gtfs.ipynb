{
 "cells": [
  {
   "cell_type": "markdown",
   "metadata": {},
   "source": [
    "# A Jupyter notebook to play around with your implemententation of theconnection scan algorithm and to analyse timetable-data"
   ]
  },
  {
   "cell_type": "markdown",
   "metadata": {},
   "source": [
    "## Init"
   ]
  },
  {
   "cell_type": "code",
   "execution_count": null,
   "metadata": {},
   "outputs": [],
   "source": [
    "%cd ..\n",
    "from scripts.helpers.my_logging import init_logging\n",
    "init_logging(\"output\", \"log.log\")"
   ]
  },
  {
   "cell_type": "markdown",
   "metadata": {},
   "source": [
    "## Play with your implementation of the connection scan algorithm"
   ]
  },
  {
   "cell_type": "code",
   "execution_count": null,
   "metadata": {},
   "outputs": [],
   "source": [
    "# external import\n",
    "from datetime import date\n",
    "import io\n",
    "import requests"
   ]
  },
  {
   "cell_type": "code",
   "execution_count": null,
   "metadata": {},
   "outputs": [],
   "source": [
    "# internal imports\n",
    "from scripts.gtfs_parser import parse_gtfs\n",
    "from scripts.connectionscan_router import ConnectionScanCore\n",
    "from scripts.helpers.funs import hhmmss_to_sec, seconds_to_hhmmss"
   ]
  },
  {
   "cell_type": "code",
   "execution_count": null,
   "metadata": {},
   "outputs": [],
   "source": [
    "# path or link to your gtfs-file\n",
    "# path_to_gtfs = r\"D:\\data\\20_gtfs_hrdf\\gtfs\\gtfsfp20202020-01-22.zip\"\n",
    "path_to_gtfs = \"https://opentransportdata.swiss/dataset/6f55f96d-7644-4901-b927-e9cf05a8c7f0/resource/a81c59c2-6fd7-47c8-b7b6-90a045a90aae/download/gtfsfp20202020-01-22.zip\""
   ]
  },
  {
   "cell_type": "code",
   "execution_count": null,
   "metadata": {},
   "outputs": [],
   "source": [
    "# download gtfs-file\n",
    "response = requests.get(path_to_gtfs)\n",
    "f = io.BytesIO(response.content)"
   ]
  },
  {
   "cell_type": "code",
   "execution_count": null,
   "metadata": {},
   "outputs": [],
   "source": [
    "# load timetable data from the gtfs-file (specify the date)\n",
    "cs_data = parse_gtfs(f, date(2019, 8, 1))\n",
    "cs_core = ConnectionScanCore(cs_data)"
   ]
  },
  {
   "cell_type": "code",
   "execution_count": null,
   "metadata": {},
   "outputs": [],
   "source": [
    "# route\n",
    "res = cs_core.route_earliest_arrival(\"8507000:0:1\", \"8509251:0:1\", hhmmss_to_sec(\"07:20:00\"))\n",
    "print(seconds_to_hhmmss(res))"
   ]
  },
  {
   "cell_type": "code",
   "execution_count": null,
   "metadata": {},
   "outputs": [],
   "source": [
    "# route\n",
    "res = cs_core.route_earliest_arrival(\"8507000:0:1\", \"8509255:0:1\", hhmmss_to_sec(\"07:20:00\"))\n",
    "print(seconds_to_hhmmss(res))"
   ]
  },
  {
   "cell_type": "code",
   "execution_count": null,
   "metadata": {},
   "outputs": [],
   "source": [
    "# route\n",
    "res = cs_core.route_earliest_arrival(\"8590054\", \"8577003\", hhmmss_to_sec(\"07:30:00\"))\n",
    "print(seconds_to_hhmmss(res) if res else \"nichts gefunden\")"
   ]
  },
  {
   "cell_type": "code",
   "execution_count": null,
   "metadata": {},
   "outputs": [],
   "source": [
    "# route\n",
    "res = cs_core.route_earliest_arrival(\"8590054\", \"8509794\", hhmmss_to_sec(\"07:30:00\"))\n",
    "print(seconds_to_hhmmss(res) if res else \"nichts gefunden\")"
   ]
  },
  {
   "cell_type": "code",
   "execution_count": null,
   "metadata": {},
   "outputs": [],
   "source": [
    "# route\n",
    "res = cs_core.route(\"8590054\", \"8574014\", hhmmss_to_sec(\"08:10:00\"))\n",
    "print(seconds_to_hhmmss(res) if res else \"nichts gefunden\")"
   ]
  },
  {
   "cell_type": "markdown",
   "metadata": {},
   "source": [
    "## Analyse timetable data (don't expect that data from any gtfs-file is always correct)"
   ]
  },
  {
   "cell_type": "code",
   "execution_count": null,
   "metadata": {},
   "outputs": [],
   "source": [
    "# imports\n",
    "from collections import defaultdict, namedtuple\n",
    "import pandas as pd\n",
    "import math\n",
    "import folium\n",
    "from folium.plugins import MarkerCluster\n",
    "from collections import defaultdict"
   ]
  },
  {
   "cell_type": "code",
   "execution_count": null,
   "metadata": {},
   "outputs": [],
   "source": [
    "def get_nb_deps_arrs_per_stop(cs_data):\n",
    "    \"\"\"returns the number of departures and arrivals per stop_id in two dicts\"\"\"\n",
    "    nb_deps_per_stop = defaultdict(lambda : 0)\n",
    "    nb_arrs_per_stop = defaultdict(lambda : 0)\n",
    "    for con in cs_data.sorted_connections:\n",
    "        nb_deps_per_stop[con.from_stop_id] += 1\n",
    "        nb_arrs_per_stop[con.to_stop_id] += 1\n",
    "    return nb_deps_per_stop, nb_arrs_per_stop"
   ]
  },
  {
   "cell_type": "code",
   "execution_count": null,
   "metadata": {},
   "outputs": [],
   "source": [
    "nb_deps_per_stop, nb_arrs_per_stop = get_nb_deps_arrs_per_stop(cs_data)"
   ]
  },
  {
   "cell_type": "code",
   "execution_count": null,
   "metadata": {},
   "outputs": [],
   "source": [
    "nb_deps_per_stop[\"8594277\"]"
   ]
  },
  {
   "cell_type": "code",
   "execution_count": null,
   "metadata": {},
   "outputs": [],
   "source": [
    "def get_arrivals_per_stop_id(cs_data, stop_id):\n",
    "    \"\"\"helper function which returns a list of trips serving a stop_id together with its corrsponding trip index\"\"\"\n",
    "    TripAndIndex = namedtuple(\"TripAndIndex\", [\"trip\", \"trip_index\"])\n",
    "    arriving_tripandindices = []\n",
    "    for trip in cs_data.trips_per_id.values():\n",
    "        for ind, con in enumerate(trip.connections):\n",
    "            if con.to_stop_id == stop_id:\n",
    "                arriving_tripandindices += [TripAndIndex(trip, ind)]\n",
    "    return arriving_tripandindices"
   ]
  },
  {
   "cell_type": "code",
   "execution_count": null,
   "metadata": {},
   "outputs": [],
   "source": [
    "def get_arrivals_df_per_stop_id(cs_data, stop_id):\n",
    "    \"\"\"returns a pandas dataframe with all arrivals in stop_id\"\"\"\n",
    "    arriving_tripandindices = get_arrivals_per_stop_id(cs_data, stop_id)\n",
    "    columns = (\"first_stop_id\", \"first_stop_name\", \"dep_first_stop\", \"stop_id\", \"stop_name\", \"arr\", \"last_stop_id\", \"last_stop_name\", \"arr_last_stop\")\n",
    "    temp = []\n",
    "    for entry in arriving_tripandindices:\n",
    "        trip = entry.trip\n",
    "        first_stop_id = trip.connections[0].from_stop_id\n",
    "        last_stop_id = trip.connections[-1].to_stop_id\n",
    "        temp += [\n",
    "            (\n",
    "                first_stop_id,\n",
    "                cs_data.stops_per_id[first_stop_id].name,\n",
    "                seconds_to_hhmmss(trip.connections[0].dep_time),\n",
    "                stop_id,\n",
    "                cs_data.stops_per_id[stop_id].name,\n",
    "                seconds_to_hhmmss(trip.connections[entry.trip_index].arr_time),\n",
    "                last_stop_id,\n",
    "                cs_data.stops_per_id[last_stop_id].name,\n",
    "                seconds_to_hhmmss(trip.connections[-1].arr_time)\n",
    "            )\n",
    "        ]\n",
    "    return pd.DataFrame.from_records(temp, columns=columns).sort_values(\"arr\").reset_index().drop([\"index\"], axis=1)"
   ]
  },
  {
   "cell_type": "code",
   "execution_count": null,
   "metadata": {},
   "outputs": [],
   "source": [
    "get_arrivals_df_per_stop_id(cs_data, \"8574008\")"
   ]
  },
  {
   "cell_type": "code",
   "execution_count": null,
   "metadata": {},
   "outputs": [],
   "source": [
    "def haversine(coord1, coord2):\n",
    "    \"\"\"returns the distance in meters between two points on earth\"\"\"\n",
    "    R = 6372800  # Earth radius in meters\n",
    "    lat1, lon1 = coord1\n",
    "    lat2, lon2 = coord2\n",
    "    \n",
    "    phi1, phi2 = math.radians(lat1), math.radians(lat2) \n",
    "    dphi       = math.radians(lat2 - lat1)\n",
    "    dlambda    = math.radians(lon2 - lon1)\n",
    "    \n",
    "    a = math.sin(dphi/2)**2 + \\\n",
    "        math.cos(phi1)*math.cos(phi2)*math.sin(dlambda/2)**2\n",
    "    \n",
    "    return 2*R*math.atan2(math.sqrt(a), math.sqrt(1 - a))\n",
    "\n",
    "def get_distance_between_stops(stop_1, stop_2):\n",
    "    \"\"\"calculates the distance in meters between two stops\"\"\"\n",
    "    return haversine([stop_1.northing, stop_1.easting], [stop_2.northing, stop_2.easting])"
   ]
  },
  {
   "cell_type": "code",
   "execution_count": null,
   "metadata": {},
   "outputs": [],
   "source": [
    "# use this map to analyse the timetable data if your router is not doing what you expect (maybe the timetable data is not complete).\n",
    "def plot_stops_around_stop_id(cs_data, stop_id, radius=5000, circle_min_radius=7, draw_footpaths=True):\n",
    "    \"\"\"\n",
    "    plots a folium map with the stops around stop_id and corresponding footpaths.\n",
    "    \"\"\"\n",
    "    stop = cs_data.stops_per_id[stop_id]\n",
    "    outgoing_stops_per_stop_id = defaultdict(list)\n",
    "    for footpath in cs_data.footpaths_per_from_to_stop_id.values():\n",
    "        outgoing_stops_per_stop_id[footpath.from_stop_id] += [footpath.to_stop_id]\n",
    "    map_stops = folium.Map(location=[stop.northing, stop.easting], zoom_start=13, max_zoom=30, tiles=\"cartodbpositron\")\n",
    "    # marker_cluster = MarkerCluster().add_to(map_stops)\n",
    "    nb_deps_per_stop, nb_arrs_per_stop = get_nb_deps_arrs_per_stop(cs_data)\n",
    "    for a_stop in list(cs_data.stops_per_id.values()):\n",
    "        if get_distance_between_stops(stop, a_stop) <= radius:\n",
    "            nb_deps = nb_deps_per_stop.get(a_stop.id, 0)\n",
    "            nb_arrs = nb_arrs_per_stop.get(a_stop.id, 0)\n",
    "            nb_deps_arrs = nb_deps + nb_arrs\n",
    "            folium.CircleMarker(\n",
    "                [a_stop.northing, a_stop.easting], \n",
    "                popup=\"{}, {}, #arrs: {}, #deps: {}\".format(a_stop.id, a_stop.name,nb_arrs, nb_deps), \n",
    "                fill_color=\"red\" if nb_deps_arrs > 0 else None,\n",
    "                radius=circle_min_radius if nb_deps_arrs == 0 or 7.5*math.log(nb_deps_arrs, 10) < circle_min_radius else 7.5*math.log(nb_deps_arrs, 10)\n",
    "            ).add_to(map_stops)\n",
    "            if draw_footpaths:\n",
    "                for connected_stop_id in outgoing_stops_per_stop_id[a_stop.id]:\n",
    "                    folium.PolyLine([\n",
    "                        [cs_data.stops_per_id[a_stop.id].northing, cs_data.stops_per_id[a_stop.id].easting], \n",
    "                        [cs_data.stops_per_id[connected_stop_id].northing, cs_data.stops_per_id[connected_stop_id].easting]],\n",
    "                        color=\"black\",\n",
    "                        weight=1.0\n",
    "                    ).add_to(map_stops)\n",
    "    return map_stops"
   ]
  },
  {
   "cell_type": "code",
   "execution_count": null,
   "metadata": {},
   "outputs": [],
   "source": [
    "map_stops = plot_stops_around_stop_id(cs_data, \"8507000P\", radius=200, draw_footpaths=True)\n",
    "map_stops"
   ]
  },
  {
   "cell_type": "code",
   "execution_count": null,
   "metadata": {},
   "outputs": [],
   "source": []
  }
 ],
 "metadata": {
  "kernelspec": {
   "display_name": "Python 3",
   "language": "python",
   "name": "python3"
  },
  "language_info": {
   "codemirror_mode": {
    "name": "ipython",
    "version": 3
   },
   "file_extension": ".py",
   "mimetype": "text/x-python",
   "name": "python",
   "nbconvert_exporter": "python",
   "pygments_lexer": "ipython3",
   "version": "3.8.1"
  }
 },
 "nbformat": 4,
 "nbformat_minor": 4
}