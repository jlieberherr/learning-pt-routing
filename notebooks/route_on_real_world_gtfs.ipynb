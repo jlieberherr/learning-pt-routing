{
 "cells": [
  {
   "cell_type": "markdown",
   "metadata": {},
   "source": [
    "# A Jupyter notebook to play around with your implemententation of theconnection scan algorithm and to analyse timetable-data"
   ]
  },
  {
   "cell_type": "markdown",
   "metadata": {},
   "source": [
    "## Init"
   ]
  },
  {
   "cell_type": "code",
   "execution_count": null,
   "metadata": {},
   "outputs": [],
   "source": [
    "%cd ..\n",
    "from scripts.helpers.my_logging import init_logging\n",
    "init_logging(\"output\", \"log.log\")"
   ]
  },
  {
   "cell_type": "markdown",
   "metadata": {},
   "source": [
    "## Play with your implementation of the connection scan algorithm"
   ]
  },
  {
   "cell_type": "code",
   "execution_count": null,
   "metadata": {},
   "outputs": [],
   "source": [
    "# external import\n",
    "from datetime import date\n",
    "import io\n",
    "import requests\n",
    "import pandas as pd"
   ]
  },
  {
   "cell_type": "code",
   "execution_count": null,
   "metadata": {},
   "outputs": [],
   "source": [
    "# internal imports\n",
    "from scripts.gtfs_parser import parse_gtfs\n",
    "from scripts.connectionscan_router import ConnectionScanCore\n",
    "from scripts.helpers.funs import hhmmss_to_sec, seconds_to_hhmmss"
   ]
  },
  {
   "cell_type": "code",
   "execution_count": null,
   "metadata": {},
   "outputs": [],
   "source": [
    "def cs_core_from_gtfs_weblink(url_to_gtfs_feed, desired_date):\n",
    "    response = requests.get(url_to_gtfs_feed)\n",
    "    f = io.BytesIO(response.content)\n",
    "    return ConnectionScanCore(parse_gtfs(f, desired_date))"
   ]
  },
  {
   "cell_type": "code",
   "execution_count": null,
   "metadata": {},
   "outputs": [],
   "source": [
    "path_to_gtfs_ch = \"https://opentransportdata.swiss/dataset/6f55f96d-7644-4901-b927-e9cf05a8c7f0/resource/a81c59c2-6fd7-47c8-b7b6-90a045a90aae/download/gtfsfp20202020-01-22.zip\"\n",
    "cs_core_ch = cs_core_from_gtfs_weblink(path_to_gtfs_ch, date(2020, 1, 24))"
   ]
  },
  {
   "cell_type": "code",
   "execution_count": null,
   "metadata": {},
   "outputs": [],
   "source": [
    "path_to_gtfs_paris = \"https://transitfeeds.com/p/regie-autonome-des-transports-parisiens/413/20200118/download\"\n",
    "cs_core_paris = cs_core_from_gtfs_weblink(path_to_gtfs_paris, date(2020, 1, 24))"
   ]
  },
  {
   "cell_type": "code",
   "execution_count": null,
   "metadata": {},
   "outputs": [],
   "source": [
    "path_to_gtfs_new_york_subway = \"https://transitfeeds.com/p/mta/79/20200109/download\"\n",
    "cs_core_ny_subway = cs_core_from_gtfs_weblink(path_to_gtfs_new_york_subway, date(2020, 1, 24))"
   ]
  },
  {
   "cell_type": "code",
   "execution_count": null,
   "metadata": {},
   "outputs": [],
   "source": [
    "path_to_gtfs_madrid = \"https://transitfeeds.com/p/emt-madrid/212/20200123/download\"\n",
    "cs_core_madrid = cs_core_from_gtfs_weblink(path_to_gtfs_madrid, date(2020, 1, 24))"
   ]
  },
  {
   "cell_type": "markdown",
   "metadata": {},
   "source": [
    "### Earliest arrival routing"
   ]
  },
  {
   "cell_type": "markdown",
   "metadata": {},
   "source": [
    "#### Switzerland"
   ]
  },
  {
   "cell_type": "code",
   "execution_count": null,
   "metadata": {},
   "outputs": [],
   "source": [
    "# route\n",
    "res = cs_core_ch.route_earliest_arrival_by_name(\"Bern\", \"Samedan\", \"07:20:00\")\n",
    "print(seconds_to_hhmmss(res))"
   ]
  },
  {
   "cell_type": "code",
   "execution_count": null,
   "metadata": {},
   "outputs": [],
   "source": [
    "# route\n",
    "res = cs_core_ch.route_earliest_arrival_by_name(\"Bern\", \"Pontresina\", \"07:20:00\")\n",
    "print(seconds_to_hhmmss(res))"
   ]
  },
  {
   "cell_type": "code",
   "execution_count": null,
   "metadata": {},
   "outputs": [],
   "source": [
    "# route\n",
    "res = cs_core_ch.route_earliest_arrival_by_name(\"Bern, Dübystrasse\", \"Ostermundigen, Bahnhof\", \"07:20:00\")\n",
    "print(seconds_to_hhmmss(res))"
   ]
  },
  {
   "cell_type": "code",
   "execution_count": null,
   "metadata": {},
   "outputs": [],
   "source": [
    "# route\n",
    "res = cs_core_ch.route_earliest_arrival_by_name(\"Bern, Dübystrasse\", \"Maloja, Posta\", \"07:20:00\")\n",
    "print(seconds_to_hhmmss(res))"
   ]
  },
  {
   "cell_type": "code",
   "execution_count": null,
   "metadata": {},
   "outputs": [],
   "source": [
    "# route\n",
    "res = cs_core_ch.route_earliest_arrival_by_name(\"Bern, Dübystrasse\", \"Heiterswil, Krummbach\", \"08:10:00\")\n",
    "print(seconds_to_hhmmss(res))"
   ]
  },
  {
   "cell_type": "markdown",
   "metadata": {},
   "source": [
    "#### Paris"
   ]
  },
  {
   "cell_type": "code",
   "execution_count": null,
   "metadata": {},
   "outputs": [],
   "source": [
    "# route\n",
    "res = cs_core_paris.route_earliest_arrival_by_name(\"Saint-Lazare\", \"Champs-Elysées-Clémenceau\", \"07:20:00\")\n",
    "print(seconds_to_hhmmss(res))"
   ]
  },
  {
   "cell_type": "markdown",
   "metadata": {},
   "source": [
    "### Earliest arrival routing with reconstruction"
   ]
  },
  {
   "cell_type": "code",
   "execution_count": null,
   "metadata": {},
   "outputs": [],
   "source": [
    "def journey_to_df(cs_core, journey):\n",
    "    cs_data = cs_core.connection_scan_data\n",
    "    if journey is None:\n",
    "        return \"Nichts gefunden\"\n",
    "    else:\n",
    "        columns = [\"from_stop_id\", \"from_stop_name\", \"dep_time\", \"to_stop_id\", \"to_stop_name\", \"arr_time\", \"duration\", \"leg_type\"]\n",
    "        legs = []\n",
    "        for jl in journey.journey_legs:\n",
    "            if jl.in_connection is not None:\n",
    "                from_stop_id = jl.in_connection.from_stop_id\n",
    "                to_stop_id = jl.out_connection.to_stop_id\n",
    "                dep_time = jl.in_connection.dep_time\n",
    "                arr_time = jl.out_connection.arr_time\n",
    "                legs += [[from_stop_id, cs_data.stops_per_id[from_stop_id].name, seconds_to_hhmmss(dep_time), to_stop_id, cs_data.stops_per_id[to_stop_id].name, seconds_to_hhmmss(arr_time), seconds_to_hhmmss(arr_time - dep_time), \"öV\"]]\n",
    "            if jl.footpath is not None:\n",
    "                from_stop_id = jl.footpath.from_stop_id\n",
    "                to_stop_id = jl.footpath.to_stop_id\n",
    "                legs += [[from_stop_id, cs_data.stops_per_id[from_stop_id].name, \"\", to_stop_id, cs_data.stops_per_id[to_stop_id].name, \"\", seconds_to_hhmmss(jl.footpath.walking_time), \"Fuss\"]]\n",
    "        return pd.DataFrame.from_records(legs, columns=columns)"
   ]
  },
  {
   "cell_type": "markdown",
   "metadata": {},
   "source": [
    "#### Switzerland"
   ]
  },
  {
   "cell_type": "code",
   "execution_count": null,
   "metadata": {},
   "outputs": [],
   "source": [
    "# route (not optimized)\n",
    "res = cs_core_ch.route_earliest_arrival_with_reconstruction_by_name(\"Bern\", \"Samedan\", \"16:20:00\")\n",
    "journey_to_df(cs_core_ch, res)"
   ]
  },
  {
   "cell_type": "code",
   "execution_count": null,
   "metadata": {},
   "outputs": [],
   "source": [
    "# route\n",
    "res = cs_core_ch.route_optimized_earliest_arrival_with_reconstruction_by_name(\"Bern\", \"Samedan\", \"16:20:00\")\n",
    "journey_to_df(cs_core_ch, res)"
   ]
  },
  {
   "cell_type": "code",
   "execution_count": null,
   "metadata": {},
   "outputs": [],
   "source": [
    "# route\n",
    "res = cs_core_ch.route_optimized_earliest_arrival_with_reconstruction_by_name(\"Bern\", \"Pontresina\", \"07:20:00\")\n",
    "journey_to_df(cs_core_ch, res)"
   ]
  },
  {
   "cell_type": "code",
   "execution_count": null,
   "metadata": {},
   "outputs": [],
   "source": [
    "# route\n",
    "res = cs_core_ch.route_optimized_earliest_arrival_with_reconstruction_by_name(\"Bern, Dübystrasse\", \"Ostermundigen, Bahnhof\", \"07:30:00\")\n",
    "journey_to_df(cs_core_ch, res)"
   ]
  },
  {
   "cell_type": "code",
   "execution_count": null,
   "metadata": {},
   "outputs": [],
   "source": [
    "# route\n",
    "res = cs_core_ch.route_optimized_earliest_arrival_with_reconstruction_by_name(\"Bern, Dübystrasse\", \"Maloja, Posta\", \"07:30:00\")\n",
    "journey_to_df(cs_core_ch, res)"
   ]
  },
  {
   "cell_type": "code",
   "execution_count": null,
   "metadata": {},
   "outputs": [],
   "source": [
    "# route\n",
    "res = cs_core_ch.route_optimized_earliest_arrival_with_reconstruction_by_name(\"Bern, Dübystrasse\", \"Heiterswil, Krummbach\", \"08:10:00\")\n",
    "journey_to_df(cs_core_ch, res)"
   ]
  },
  {
   "cell_type": "code",
   "execution_count": null,
   "metadata": {},
   "outputs": [],
   "source": [
    "# route\n",
    "res = cs_core_ch.route_optimized_earliest_arrival_with_reconstruction_by_name(\"Ebikon, Falken\", \"Dietwil, Wannenmatt\", \"12:35:23\")\n",
    "journey_to_df(cs_core_ch, res)"
   ]
  },
  {
   "cell_type": "code",
   "execution_count": null,
   "metadata": {},
   "outputs": [],
   "source": [
    "# route\n",
    "res = cs_core_ch.route_optimized_earliest_arrival_with_reconstruction_by_name(\"Bern\", \"Zürich HB\", \"12:35:23\")\n",
    "journey_to_df(cs_core_ch, res)"
   ]
  },
  {
   "cell_type": "code",
   "execution_count": null,
   "metadata": {},
   "outputs": [],
   "source": [
    "# route\n",
    "res = cs_core_ch.route_optimized_earliest_arrival_with_reconstruction_by_name(\"Bern, Wyleregg\", \"La Ferrière\", \"17:30:00\")\n",
    "journey_to_df(cs_core_ch, res)"
   ]
  },
  {
   "cell_type": "markdown",
   "metadata": {},
   "source": [
    "#### Paris"
   ]
  },
  {
   "cell_type": "code",
   "execution_count": null,
   "metadata": {},
   "outputs": [],
   "source": [
    "# route (not optimized)\n",
    "res = cs_core_paris.route_earliest_arrival_with_reconstruction_by_name(\"Saint-Lazare\", \"Champs-Elysées-Clémenceau\", \"07:20:00\")\n",
    "journey_to_df(cs_core_paris, res)"
   ]
  },
  {
   "cell_type": "code",
   "execution_count": null,
   "metadata": {},
   "outputs": [],
   "source": [
    "# route\n",
    "res = cs_core_paris.route_optimized_earliest_arrival_with_reconstruction_by_name(\"Saint-Lazare\", \"Champs-Elysées-Clémenceau\", \"07:20:00\")\n",
    "journey_to_df(cs_core_paris, res)"
   ]
  },
  {
   "cell_type": "code",
   "execution_count": null,
   "metadata": {},
   "outputs": [],
   "source": [
    "# route (unoptimized)\n",
    "res = cs_core_paris.route_earliest_arrival_with_reconstruction_by_name(\"Jourdain\", \"Billancourt\", \"12:30:00\")\n",
    "journey_to_df(cs_core_paris, res)"
   ]
  },
  {
   "cell_type": "code",
   "execution_count": null,
   "metadata": {},
   "outputs": [],
   "source": [
    "# route\n",
    "res = cs_core_paris.route_optimized_earliest_arrival_with_reconstruction_by_name(\"Jourdain\", \"Billancourt\", \"12:30:00\")\n",
    "journey_to_df(cs_core_paris, res)"
   ]
  },
  {
   "cell_type": "code",
   "execution_count": null,
   "metadata": {},
   "outputs": [],
   "source": [
    "# route (unoptimized)\n",
    "res = cs_core_paris.route_earliest_arrival_with_reconstruction_by_name(\"La Défense (Grande Arche)\", \"Rambuteau\", \"21:10:00\")\n",
    "journey_to_df(cs_core_paris, res)"
   ]
  },
  {
   "cell_type": "code",
   "execution_count": null,
   "metadata": {},
   "outputs": [],
   "source": [
    "# route\n",
    "res = cs_core_paris.route_optimized_earliest_arrival_with_reconstruction_by_name(\"La Défense (Grande Arche)\", \"Rambuteau\", \"21:10:00\")\n",
    "journey_to_df(cs_core_paris, res)"
   ]
  },
  {
   "cell_type": "code",
   "execution_count": null,
   "metadata": {},
   "outputs": [],
   "source": [
    "# route (unoptimized)\n",
    "res = cs_core_paris.route_earliest_arrival_with_reconstruction_by_name(\"JEAN BONAL\", \"RESIDENCE VERDUN\", \"05:10:00\")\n",
    "journey_to_df(cs_core_paris, res)"
   ]
  },
  {
   "cell_type": "code",
   "execution_count": null,
   "metadata": {},
   "outputs": [],
   "source": [
    "# route\n",
    "res = cs_core_paris.route_optimized_earliest_arrival_with_reconstruction_by_name(\"JEAN BONAL\", \"RESIDENCE VERDUN\", \"05:10:00\")\n",
    "journey_to_df(cs_core_paris, res)"
   ]
  },
  {
   "cell_type": "markdown",
   "metadata": {},
   "source": [
    "### New York subway"
   ]
  },
  {
   "cell_type": "code",
   "execution_count": null,
   "metadata": {},
   "outputs": [],
   "source": [
    "# route\n",
    "res = cs_core_ny_subway.route_optimized_earliest_arrival_with_reconstruction_by_name(\"Aqueduct - N Conduit Av\", \"Forest Av\", \"05:10:00\")\n",
    "journey_to_df(cs_core_ny_subway, res)"
   ]
  },
  {
   "cell_type": "markdown",
   "metadata": {},
   "source": [
    "### Madrid"
   ]
  },
  {
   "cell_type": "code",
   "execution_count": null,
   "metadata": {},
   "outputs": [],
   "source": [
    "# route\n",
    "res = cs_core_madrid.route_optimized_earliest_arrival_with_reconstruction_by_name(\"Madre Antonia París\", \"Velázquez - Villanueva\", \"09:35:00\")\n",
    "journey_to_df(cs_core_madrid, res)"
   ]
  },
  {
   "cell_type": "markdown",
   "metadata": {},
   "source": [
    "## Analyse timetable data (don't expect that data from any gtfs-file is always complete nor correct)"
   ]
  },
  {
   "cell_type": "code",
   "execution_count": null,
   "metadata": {},
   "outputs": [],
   "source": [
    "# imports\n",
    "from collections import defaultdict, namedtuple\n",
    "import pandas as pd\n",
    "import math\n",
    "import folium\n",
    "from folium.plugins import MarkerCluster\n",
    "from collections import defaultdict"
   ]
  },
  {
   "cell_type": "code",
   "execution_count": null,
   "metadata": {},
   "outputs": [],
   "source": [
    "def get_nb_deps_arrs_per_stop(cs_core):\n",
    "    cs_data = cs_core.connection_scan_data\n",
    "    \"\"\"returns the number of departures and arrivals per stop_id in two dicts\"\"\"\n",
    "    nb_deps_per_stop = defaultdict(lambda : 0)\n",
    "    nb_arrs_per_stop = defaultdict(lambda : 0)\n",
    "    for con in cs_data.sorted_connections:\n",
    "        nb_deps_per_stop[con.from_stop_id] += 1\n",
    "        nb_arrs_per_stop[con.to_stop_id] += 1\n",
    "    return dict(nb_deps_per_stop), dict(nb_arrs_per_stop)"
   ]
  },
  {
   "cell_type": "code",
   "execution_count": null,
   "metadata": {},
   "outputs": [],
   "source": [
    "nb_deps_per_stop, nb_arrs_per_stop = get_nb_deps_arrs_per_stop(cs_core_paris)"
   ]
  },
  {
   "cell_type": "code",
   "execution_count": null,
   "metadata": {},
   "outputs": [],
   "source": [
    "def get_arrivals_per_stop_id(cs_core, stop_id):\n",
    "    \"\"\"helper function which returns a list of trips serving a stop_id together with its corrsponding trip index\"\"\"\n",
    "    cs_data = cs_core.connection_scan_data\n",
    "    TripAndIndex = namedtuple(\"TripAndIndex\", [\"trip\", \"trip_index\"])\n",
    "    arriving_tripandindices = []\n",
    "    for trip in cs_data.trips_per_id.values():\n",
    "        for ind, con in enumerate(trip.connections):\n",
    "            if con.to_stop_id == stop_id:\n",
    "                arriving_tripandindices += [TripAndIndex(trip, ind)]\n",
    "    return arriving_tripandindices\n",
    "\n",
    "def get_arrivals_per_stop_name(cs_core, stop_name):\n",
    "    cs_data = cs_core.connection_scan_data\n",
    "    stop_id = cs_data.stops_per_name[stop_name].id\n",
    "    return get_arrivals_per_stop_id(cs_core, stop_id)"
   ]
  },
  {
   "cell_type": "code",
   "execution_count": null,
   "metadata": {},
   "outputs": [],
   "source": [
    "def get_arrivals_df_per_stop_id(cs_core, stop_id):\n",
    "    \"\"\"returns a pandas dataframe with all arrivals in stop_id\"\"\"\n",
    "    cs_data = cs_core.connection_scan_data\n",
    "    arriving_tripandindices = get_arrivals_per_stop_id(cs_core, stop_id)\n",
    "    columns = (\"first_stop_id\", \"first_stop_name\", \"dep_first_stop\", \"stop_id\", \"stop_name\", \"arr\", \"last_stop_id\", \"last_stop_name\", \"arr_last_stop\")\n",
    "    temp = []\n",
    "    for entry in arriving_tripandindices:\n",
    "        trip = entry.trip\n",
    "        first_stop_id = trip.connections[0].from_stop_id\n",
    "        last_stop_id = trip.connections[-1].to_stop_id\n",
    "        temp += [\n",
    "            (\n",
    "                first_stop_id,\n",
    "                cs_data.stops_per_id[first_stop_id].name,\n",
    "                seconds_to_hhmmss(trip.connections[0].dep_time),\n",
    "                stop_id,\n",
    "                cs_data.stops_per_id[stop_id].name,\n",
    "                seconds_to_hhmmss(trip.connections[entry.trip_index].arr_time),\n",
    "                last_stop_id,\n",
    "                cs_data.stops_per_id[last_stop_id].name,\n",
    "                seconds_to_hhmmss(trip.connections[-1].arr_time)\n",
    "            )\n",
    "        ]\n",
    "    return pd.DataFrame.from_records(temp, columns=columns).sort_values(\"arr\").reset_index().drop([\"index\"], axis=1)\n",
    "\n",
    "def get_arrivals_df_per_stop_name(cs_core, stop_name):\n",
    "    cs_data = cs_core.connection_scan_data\n",
    "    stop_id = cs_data.stops_per_name[stop_name].id\n",
    "    return get_arrivals_df_per_stop_id(cs_core, stop_id)"
   ]
  },
  {
   "cell_type": "code",
   "execution_count": null,
   "metadata": {},
   "outputs": [],
   "source": [
    "get_arrivals_df_per_stop_name(cs_core_ny_subway, \"Euclid Av\")"
   ]
  },
  {
   "cell_type": "code",
   "execution_count": null,
   "metadata": {},
   "outputs": [],
   "source": [
    "def haversine(coord1, coord2):\n",
    "    \"\"\"returns the distance in meters between two points on earth\"\"\"\n",
    "    R = 6372800  # Earth radius in meters\n",
    "    lat1, lon1 = coord1\n",
    "    lat2, lon2 = coord2\n",
    "    \n",
    "    phi1, phi2 = math.radians(lat1), math.radians(lat2) \n",
    "    dphi       = math.radians(lat2 - lat1)\n",
    "    dlambda    = math.radians(lon2 - lon1)\n",
    "    \n",
    "    a = math.sin(dphi/2)**2 + \\\n",
    "        math.cos(phi1)*math.cos(phi2)*math.sin(dlambda/2)**2\n",
    "    \n",
    "    return 2*R*math.atan2(math.sqrt(a), math.sqrt(1 - a))\n",
    "\n",
    "def get_distance_between_stops(stop_1, stop_2):\n",
    "    \"\"\"calculates the distance in meters between two stops\"\"\"\n",
    "    return haversine([stop_1.northing, stop_1.easting], [stop_2.northing, stop_2.easting])"
   ]
  },
  {
   "cell_type": "code",
   "execution_count": null,
   "metadata": {},
   "outputs": [],
   "source": [
    "# use this map to analyse the timetable data if your router is not doing what you expect (maybe the timetable data is not complete).\n",
    "def plot_stops_around_stop_id(cs_core, stop_name, nb_stops=500, circle_min_radius=7, draw_footpaths=True):\n",
    "    \"\"\"\n",
    "    plots a folium map with the stops around stop_id and corresponding footpaths.\n",
    "    \"\"\"\n",
    "    cs_data = cs_core.connection_scan_data\n",
    "    stop = cs_data.stops_per_name[stop_name]\n",
    "    outgoing_stops_per_stop_id = defaultdict(list)\n",
    "    for footpath in cs_data.footpaths_per_from_to_stop_id.values():\n",
    "        outgoing_stops_per_stop_id[footpath.from_stop_id] += [footpath.to_stop_id]\n",
    "    map_stops = folium.Map(location=[stop.northing, stop.easting], zoom_start=13, max_zoom=30, tiles=\"cartodbpositron\")\n",
    "    # marker_cluster = MarkerCluster().add_to(map_stops)\n",
    "    nb_deps_per_stop, nb_arrs_per_stop = get_nb_deps_arrs_per_stop(cs_core)\n",
    "    stops_sorted = sorted(cs_data.stops_per_id.values(), key=lambda s: get_distance_between_stops(stop, s))\n",
    "    for a_stop in stops_sorted[:nb_stops]:\n",
    "        nb_deps = nb_deps_per_stop.get(a_stop.id, 0)\n",
    "        nb_arrs = nb_arrs_per_stop.get(a_stop.id, 0)\n",
    "        nb_deps_arrs = nb_deps + nb_arrs\n",
    "        folium.CircleMarker(\n",
    "            [a_stop.northing, a_stop.easting], \n",
    "            popup=\"{}, {}, #arrs: {}, #deps: {}\".format(a_stop.id, a_stop.name,nb_arrs, nb_deps), \n",
    "            fill_color=\"red\" if nb_deps_arrs > 0 else None,\n",
    "            radius=circle_min_radius if nb_deps_arrs == 0 or 7.5*math.log(nb_deps_arrs, 10) < circle_min_radius else 7.5*math.log(nb_deps_arrs, 10)\n",
    "        ).add_to(map_stops)\n",
    "        if draw_footpaths:\n",
    "            for connected_stop_id in outgoing_stops_per_stop_id[a_stop.id]:\n",
    "                folium.PolyLine([\n",
    "                    [cs_data.stops_per_id[a_stop.id].northing, cs_data.stops_per_id[a_stop.id].easting], \n",
    "                    [cs_data.stops_per_id[connected_stop_id].northing, cs_data.stops_per_id[connected_stop_id].easting]],\n",
    "                    color=\"black\",\n",
    "                    weight=1.0\n",
    "                ).add_to(map_stops)\n",
    "    return map_stops"
   ]
  },
  {
   "cell_type": "code",
   "execution_count": null,
   "metadata": {},
   "outputs": [],
   "source": [
    "map_stops = plot_stops_around_stop_id(cs_core_madrid, \"Torrelaguna - Avenida De Badajoz\", nb_stops=1000, draw_footpaths=False)\n",
    "map_stops"
   ]
  },
  {
   "cell_type": "code",
   "execution_count": null,
   "metadata": {},
   "outputs": [],
   "source": []
  }
 ],
 "metadata": {
  "kernelspec": {
   "display_name": "Python 3",
   "language": "python",
   "name": "python3"
  },
  "language_info": {
   "codemirror_mode": {
    "name": "ipython",
    "version": 3
   },
   "file_extension": ".py",
   "mimetype": "text/x-python",
   "name": "python",
   "nbconvert_exporter": "python",
   "pygments_lexer": "ipython3",
   "version": "3.8.1"
  }
 },
 "nbformat": 4,
 "nbformat_minor": 4
}
