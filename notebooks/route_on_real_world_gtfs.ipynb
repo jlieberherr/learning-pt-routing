{
 "cells": [
  {
   "cell_type": "code",
   "execution_count": null,
   "metadata": {},
   "outputs": [],
   "source": [
    "%cd ..\n",
    "import os\n",
    "print(os.getcwd())"
   ]
  },
  {
   "cell_type": "code",
   "execution_count": null,
   "metadata": {},
   "outputs": [],
   "source": [
    "from datetime import date"
   ]
  },
  {
   "cell_type": "code",
   "execution_count": null,
   "metadata": {},
   "outputs": [],
   "source": [
    "from scripts.gtfs_parser import parse_gtfs\n",
    "from scripts.connectionscan_router import ConnectionScanCore\n",
    "from scripts.helpers.funs import hhmmss_to_sec, seconds_to_hhmmss\n",
    "from scripts.helpers.my_logging import init_logging"
   ]
  },
  {
   "cell_type": "code",
   "execution_count": null,
   "metadata": {},
   "outputs": [],
   "source": [
    "init_logging(\"output\", \"log.log\")"
   ]
  },
  {
   "cell_type": "code",
   "execution_count": null,
   "metadata": {},
   "outputs": [],
   "source": [
    "path_to_gtfs = r\"D:\\data\\90_divers\\gtfs (3).zip\""
   ]
  },
  {
   "cell_type": "code",
   "execution_count": null,
   "metadata": {},
   "outputs": [],
   "source": [
    "cs_data = parse_gtfs(path_to_gtfs, date(2019, 8, 1))"
   ]
  },
  {
   "cell_type": "code",
   "execution_count": null,
   "metadata": {},
   "outputs": [],
   "source": [
    "cs_core = ConnectionScanCore(cs_data)"
   ]
  },
  {
   "cell_type": "code",
   "execution_count": null,
   "metadata": {},
   "outputs": [],
   "source": [
    "res = cs_core.route(\"8507000:0:1\", \"8509251:0:1\", hhmmss_to_sec(\"07:30:00\"))\n",
    "print(seconds_to_hhmmss(res))"
   ]
  },
  {
   "cell_type": "code",
   "execution_count": null,
   "metadata": {},
   "outputs": [],
   "source": [
    "res = cs_core.route(\"8507000:0:1\", \"8509255:0:1\", hhmmss_to_sec(\"07:30:00\"))\n",
    "print(seconds_to_hhmmss(res))"
   ]
  },
  {
   "cell_type": "code",
   "execution_count": null,
   "metadata": {},
   "outputs": [],
   "source": [
    "res = cs_core.route(\"8590054\", \"8577003\", hhmmss_to_sec(\"07:30:00\"))\n",
    "print(seconds_to_hhmmss(res) if res else \"nichts gefunden\")"
   ]
  },
  {
   "cell_type": "code",
   "execution_count": null,
   "metadata": {},
   "outputs": [],
   "source": [
    "res = cs_core.route(\"8590054\", \"8509794\", hhmmss_to_sec(\"07:30:00\"))\n",
    "print(seconds_to_hhmmss(res) if res else \"nichts gefunden\")"
   ]
  }
 ],
 "metadata": {
  "kernelspec": {
   "display_name": "Python 3",
   "language": "python",
   "name": "python3"
  },
  "language_info": {
   "codemirror_mode": {
    "name": "ipython",
    "version": 3
   },
   "file_extension": ".py",
   "mimetype": "text/x-python",
   "name": "python",
   "nbconvert_exporter": "python",
   "pygments_lexer": "ipython3",
   "version": "3.8.1"
  }
 },
 "nbformat": 4,
 "nbformat_minor": 4
}
